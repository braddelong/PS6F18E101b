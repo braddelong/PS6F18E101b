{
 "cells": [
  {
   "cell_type": "markdown",
   "metadata": {},
   "source": [
    "## Directions for Problem Set 6: Applying the Solow Model: Malthusian Economies\n",
    "\n",
    "**Due via <http://okpy.org> at 11:59 pm on Monday October 1, 2018...**\n",
    "\n",
    "There are two ways to do this problem set:\n",
    "\n",
    "1. In the Berkeley datahub cloud, by surfing to the link: <http://datahub.berkeley.edu/user-redirect/interact?account=braddelong&repo=PS6F18E101&branch=master&path=PS6.ipynb>.\n",
    "\n",
    "2. On your own machine, by surfing to the directory <https://github.com/braddelong/PS6F18E101b> and then downloading the entire directory by clicking the green \"clone or download\" button.\n",
    "\n",
    "Report errors/problems to delong@econ.berkeley.edu with subject line starting: \"Econ-101b:-data8-errors:\" or \"Econ-101b:-python-errors:\""
   ]
  }
 ],
 "metadata": {
  "kernelspec": {
   "display_name": "Python 3",
   "language": "python",
   "name": "python3"
  },
  "language_info": {
   "codemirror_mode": {
    "name": "ipython",
    "version": 3
   },
   "file_extension": ".py",
   "mimetype": "text/x-python",
   "name": "python",
   "nbconvert_exporter": "python",
   "pygments_lexer": "ipython3",
   "version": "3.6.5"
  }
 },
 "nbformat": 4,
 "nbformat_minor": 2
}
